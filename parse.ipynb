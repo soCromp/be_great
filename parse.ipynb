{
 "cells": [
  {
   "cell_type": "code",
   "execution_count": 1,
   "metadata": {},
   "outputs": [],
   "source": [
    "import pandas as pd \n",
    "import re\n",
    "pathmoe = '/hdd3/sonia/be_great/ckpts/moe/dgpt2/adult-allcol/jul17/samples'\n",
    "pathoh = '/hdd3/sonia/be_great/ckpts/dgpt2/adult-allcol/samples'\n",
    "pathreal = '/hdd3/sonia/data/adult.csv'\n",
    "path = pathmoe"
   ]
  },
  {
   "cell_type": "markdown",
   "metadata": {},
   "source": [
    "age,workclass,fnlwgt,education,education-num,marital-status,occupation,relationship,race,sex,capital-gain,capital-loss,hours-per-week,native-country,income"
   ]
  },
  {
   "cell_type": "code",
   "execution_count": 31,
   "metadata": {},
   "outputs": [],
   "source": [
    "patternmoe = f'\\<\\|endoftext\\|\\>age is (.+)\\.<EOS>workclass is (.+)\\.<EOS>fnlwgt is (\\d+)\\.<EOS>education is (.+)\\.<EOS>' +\\\n",
    "             f'education-num is (\\d+)\\.<EOS>marital-status is (.+)\\.<EOS>occupation is (.+)\\.<EOS>relationship is (.+)\\.<EOS>' +\\\n",
    "             f'race is (.+)\\.<EOS>sex is (.+)\\.<EOS>capital-gain is (.+)\\.<EOS>capital-loss is (.+)\\.<EOS>' +\\\n",
    "             f'hours-per-week is (\\?|\\d+)\\.<EOS>native-country is ([-\\w]+)\\.<EOS>income is (.{4,5})\\.<EOS>.?'\n",
    "# patternoh = f'\\<\\|endoftext\\|\\>age is (\\d+)\\.<EOS> workclass is (\\w+)\\.<EOS> fnlwgt is (\\d+).+<EOS> income is (.+)\\.<EOS>'\n",
    "pattern = patternmoe"
   ]
  },
  {
   "cell_type": "code",
   "execution_count": 32,
   "metadata": {},
   "outputs": [
    {
     "data": {
      "text/plain": [
       "3994"
      ]
     },
     "execution_count": 32,
     "metadata": {},
     "output_type": "execute_result"
    }
   ],
   "source": [
    "with open(path+'.txt', 'r') as f:\n",
    "    raws = f.readlines()\n",
    "\n",
    "parsed = []\n",
    "for raw in raws:\n",
    "    vals = re.findall(pattern, raw)\n",
    "    if len(vals) == 1:\n",
    "        parsed.append(vals[0])\n",
    "len(parsed)"
   ]
  },
  {
   "cell_type": "code",
   "execution_count": 33,
   "metadata": {},
   "outputs": [
    {
     "data": {
      "text/html": [
       "<div>\n",
       "<style scoped>\n",
       "    .dataframe tbody tr th:only-of-type {\n",
       "        vertical-align: middle;\n",
       "    }\n",
       "\n",
       "    .dataframe tbody tr th {\n",
       "        vertical-align: top;\n",
       "    }\n",
       "\n",
       "    .dataframe thead th {\n",
       "        text-align: right;\n",
       "    }\n",
       "</style>\n",
       "<table border=\"1\" class=\"dataframe\">\n",
       "  <thead>\n",
       "    <tr style=\"text-align: right;\">\n",
       "      <th></th>\n",
       "      <th>age</th>\n",
       "      <th>workclass</th>\n",
       "      <th>fnlwgt</th>\n",
       "      <th>education</th>\n",
       "      <th>education-num</th>\n",
       "      <th>marital-status</th>\n",
       "      <th>occupation</th>\n",
       "      <th>relationship</th>\n",
       "      <th>race</th>\n",
       "      <th>sex</th>\n",
       "      <th>capital-gain</th>\n",
       "      <th>capital-loss</th>\n",
       "      <th>hours-per-week</th>\n",
       "      <th>native-country</th>\n",
       "      <th>income</th>\n",
       "    </tr>\n",
       "  </thead>\n",
       "  <tbody>\n",
       "    <tr>\n",
       "      <th>0</th>\n",
       "      <td>23</td>\n",
       "      <td>Private</td>\n",
       "      <td>89942</td>\n",
       "      <td>11th</td>\n",
       "      <td>7</td>\n",
       "      <td>Never-married</td>\n",
       "      <td>Farming-fishing</td>\n",
       "      <td>Unmarried</td>\n",
       "      <td>White</td>\n",
       "      <td>Male</td>\n",
       "      <td>0</td>\n",
       "      <td>0</td>\n",
       "      <td>45</td>\n",
       "      <td>United-States</td>\n",
       "      <td>&lt;=50K.&lt;EOS&gt;income is &lt;=50K.&lt;EOS&gt;native-country...</td>\n",
       "    </tr>\n",
       "    <tr>\n",
       "      <th>1</th>\n",
       "      <td>27</td>\n",
       "      <td>Private</td>\n",
       "      <td>119094</td>\n",
       "      <td>Some-college</td>\n",
       "      <td>10</td>\n",
       "      <td>Never-married</td>\n",
       "      <td>Exec-managerial</td>\n",
       "      <td>Private</td>\n",
       "      <td>White</td>\n",
       "      <td>Female</td>\n",
       "      <td>0</td>\n",
       "      <td>0</td>\n",
       "      <td>40</td>\n",
       "      <td>United-States</td>\n",
       "      <td>&lt;=50K.&lt;EOS&gt;income is &lt;=50K.&lt;EOS&gt;native-country...</td>\n",
       "    </tr>\n",
       "    <tr>\n",
       "      <th>2</th>\n",
       "      <td>23</td>\n",
       "      <td>Private</td>\n",
       "      <td>163053</td>\n",
       "      <td>7th-8th</td>\n",
       "      <td>4</td>\n",
       "      <td>Separated</td>\n",
       "      <td>Other-service</td>\n",
       "      <td>Unmarried</td>\n",
       "      <td>White</td>\n",
       "      <td>Female</td>\n",
       "      <td>0</td>\n",
       "      <td>0</td>\n",
       "      <td>30</td>\n",
       "      <td>United-States</td>\n",
       "      <td>&lt;=50K.&lt;EOS&gt;income is &lt;=50K.&lt;EOS&gt;income is &lt;=50...</td>\n",
       "    </tr>\n",
       "    <tr>\n",
       "      <th>3</th>\n",
       "      <td>24</td>\n",
       "      <td>Private</td>\n",
       "      <td>142069</td>\n",
       "      <td>Assoc-acdm</td>\n",
       "      <td>12</td>\n",
       "      <td>Never-married</td>\n",
       "      <td>Adm-clerical</td>\n",
       "      <td>Own-child</td>\n",
       "      <td>Black</td>\n",
       "      <td>Female</td>\n",
       "      <td>0</td>\n",
       "      <td>0</td>\n",
       "      <td>40</td>\n",
       "      <td>United-States</td>\n",
       "      <td>&lt;=50K.&lt;EOS&gt;income &lt;=50K.&lt;EOS&gt;income is &lt;=50K.&lt;...</td>\n",
       "    </tr>\n",
       "    <tr>\n",
       "      <th>4</th>\n",
       "      <td>26</td>\n",
       "      <td>Private</td>\n",
       "      <td>132866</td>\n",
       "      <td>Some-college</td>\n",
       "      <td>10</td>\n",
       "      <td>Divorced</td>\n",
       "      <td>Sales</td>\n",
       "      <td>Not-in-family</td>\n",
       "      <td>White</td>\n",
       "      <td>Female</td>\n",
       "      <td>0</td>\n",
       "      <td>0</td>\n",
       "      <td>60</td>\n",
       "      <td>United-States</td>\n",
       "      <td>&lt;=50K.&lt;EOS&gt;income is &lt;=50K.&lt;EOS&gt;income is &lt;=50...</td>\n",
       "    </tr>\n",
       "  </tbody>\n",
       "</table>\n",
       "</div>"
      ],
      "text/plain": [
       "  age workclass  fnlwgt     education education-num marital-status  \\\n",
       "0  23   Private   89942          11th             7  Never-married   \n",
       "1  27   Private  119094  Some-college            10  Never-married   \n",
       "2  23   Private  163053       7th-8th             4      Separated   \n",
       "3  24   Private  142069    Assoc-acdm            12  Never-married   \n",
       "4  26   Private  132866  Some-college            10       Divorced   \n",
       "\n",
       "        occupation   relationship   race     sex capital-gain capital-loss  \\\n",
       "0  Farming-fishing      Unmarried  White    Male            0            0   \n",
       "1  Exec-managerial        Private  White  Female            0            0   \n",
       "2    Other-service      Unmarried  White  Female            0            0   \n",
       "3     Adm-clerical      Own-child  Black  Female            0            0   \n",
       "4            Sales  Not-in-family  White  Female            0            0   \n",
       "\n",
       "  hours-per-week native-country  \\\n",
       "0             45  United-States   \n",
       "1             40  United-States   \n",
       "2             30  United-States   \n",
       "3             40  United-States   \n",
       "4             60  United-States   \n",
       "\n",
       "                                              income  \n",
       "0  <=50K.<EOS>income is <=50K.<EOS>native-country...  \n",
       "1  <=50K.<EOS>income is <=50K.<EOS>native-country...  \n",
       "2  <=50K.<EOS>income is <=50K.<EOS>income is <=50...  \n",
       "3  <=50K.<EOS>income <=50K.<EOS>income is <=50K.<...  \n",
       "4  <=50K.<EOS>income is <=50K.<EOS>income is <=50...  "
      ]
     },
     "execution_count": 33,
     "metadata": {},
     "output_type": "execute_result"
    }
   ],
   "source": [
    "cols = ['age','workclass','fnlwgt','education','education-num','marital-status','occupation','relationship',\n",
    "        'race','sex','capital-gain','capital-loss','hours-per-week','native-country','income']\n",
    "df = pd.DataFrame(parsed, columns=cols)\n",
    "df.head()"
   ]
  },
  {
   "cell_type": "code",
   "execution_count": 5,
   "metadata": {},
   "outputs": [
    {
     "data": {
      "text/plain": [
       "{'workclass': ['Federal-gov',\n",
       "  '?',\n",
       "  'Self-emp-inc',\n",
       "  'Local-gov',\n",
       "  'Private',\n",
       "  'Without-pay',\n",
       "  'State-gov',\n",
       "  'Never-worked',\n",
       "  'Self-emp-not-inc'],\n",
       " 'income': ['<=50K', '>50K']}"
      ]
     },
     "execution_count": 5,
     "metadata": {},
     "output_type": "execute_result"
    }
   ],
   "source": [
    "real = pd.read_csv(pathreal)\n",
    "real = real[df.columns]\n",
    "ords = ['workclass', 'income']\n",
    "ordvals = {col:set(real[col].unique()) for col in ords}\n",
    "for col in ordvals:\n",
    "    ordvals[col] = [val.strip() for val in ordvals[col]]\n",
    "ordvals"
   ]
  },
  {
   "cell_type": "code",
   "execution_count": 6,
   "metadata": {},
   "outputs": [
    {
     "data": {
      "text/html": [
       "<div>\n",
       "<style scoped>\n",
       "    .dataframe tbody tr th:only-of-type {\n",
       "        vertical-align: middle;\n",
       "    }\n",
       "\n",
       "    .dataframe tbody tr th {\n",
       "        vertical-align: top;\n",
       "    }\n",
       "\n",
       "    .dataframe thead th {\n",
       "        text-align: right;\n",
       "    }\n",
       "</style>\n",
       "<table border=\"1\" class=\"dataframe\">\n",
       "  <thead>\n",
       "    <tr style=\"text-align: right;\">\n",
       "      <th></th>\n",
       "      <th>age</th>\n",
       "      <th>workclass</th>\n",
       "      <th>fnlwgt</th>\n",
       "      <th>income</th>\n",
       "    </tr>\n",
       "  </thead>\n",
       "  <tbody>\n",
       "    <tr>\n",
       "      <th>0</th>\n",
       "      <td>50</td>\n",
       "      <td>Private</td>\n",
       "      <td>4781887</td>\n",
       "      <td>&lt;=50K</td>\n",
       "    </tr>\n",
       "    <tr>\n",
       "      <th>1</th>\n",
       "      <td>44</td>\n",
       "      <td>Private</td>\n",
       "      <td>17126743</td>\n",
       "      <td>&lt;=50K</td>\n",
       "    </tr>\n",
       "    <tr>\n",
       "      <th>2</th>\n",
       "      <td>30</td>\n",
       "      <td>Private</td>\n",
       "      <td>40</td>\n",
       "      <td>&lt;=50K</td>\n",
       "    </tr>\n",
       "    <tr>\n",
       "      <th>3</th>\n",
       "      <td>32</td>\n",
       "      <td>Private</td>\n",
       "      <td>2538</td>\n",
       "      <td>&lt;=50K</td>\n",
       "    </tr>\n",
       "    <tr>\n",
       "      <th>4</th>\n",
       "      <td>38</td>\n",
       "      <td>Private</td>\n",
       "      <td>45624</td>\n",
       "      <td>&lt;=50K</td>\n",
       "    </tr>\n",
       "  </tbody>\n",
       "</table>\n",
       "</div>"
      ],
      "text/plain": [
       "  age workclass    fnlwgt income\n",
       "0  50   Private   4781887  <=50K\n",
       "1  44   Private  17126743  <=50K\n",
       "2  30   Private        40  <=50K\n",
       "3  32   Private      2538  <=50K\n",
       "4  38   Private     45624  <=50K"
      ]
     },
     "execution_count": 6,
     "metadata": {},
     "output_type": "execute_result"
    }
   ],
   "source": [
    "df=df[df['workclass'].isin(ordvals['workclass']) & df['income'].isin(ordvals['income'])]\n",
    "df.head()"
   ]
  },
  {
   "cell_type": "code",
   "execution_count": 7,
   "metadata": {},
   "outputs": [],
   "source": [
    "df.to_csv(path+'.csv', index=False)"
   ]
  },
  {
   "cell_type": "code",
   "execution_count": 9,
   "metadata": {},
   "outputs": [
    {
     "ename": "NameError",
     "evalue": "name 'dfmsub' is not defined",
     "output_type": "error",
     "traceback": [
      "\u001b[0;31m---------------------------------------------------------------------------\u001b[0m",
      "\u001b[0;31mNameError\u001b[0m                                 Traceback (most recent call last)",
      "Cell \u001b[0;32mIn[9], line 1\u001b[0m\n\u001b[0;32m----> 1\u001b[0m \u001b[38;5;28mlen\u001b[39m(dfmsub)\n",
      "\u001b[0;31mNameError\u001b[0m: name 'dfmsub' is not defined"
     ]
    }
   ],
   "source": [
    "len(dfmsub)"
   ]
  },
  {
   "cell_type": "code",
   "execution_count": null,
   "metadata": {},
   "outputs": [],
   "source": []
  }
 ],
 "metadata": {
  "kernelspec": {
   "display_name": "great",
   "language": "python",
   "name": "python3"
  },
  "language_info": {
   "codemirror_mode": {
    "name": "ipython",
    "version": 3
   },
   "file_extension": ".py",
   "mimetype": "text/x-python",
   "name": "python",
   "nbconvert_exporter": "python",
   "pygments_lexer": "ipython3",
   "version": "3.11.4"
  }
 },
 "nbformat": 4,
 "nbformat_minor": 2
}
